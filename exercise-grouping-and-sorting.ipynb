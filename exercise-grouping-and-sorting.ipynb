{
 "cells": [
  {
   "cell_type": "markdown",
   "id": "992740ce",
   "metadata": {
    "papermill": {
     "duration": 0.005724,
     "end_time": "2025-07-14T07:34:44.687108",
     "exception": false,
     "start_time": "2025-07-14T07:34:44.681384",
     "status": "completed"
    },
    "tags": []
   },
   "source": [
    "**This notebook is an exercise in the [Pandas](https://www.kaggle.com/learn/pandas) course.  You can reference the tutorial at [this link](https://www.kaggle.com/residentmario/grouping-and-sorting).**\n",
    "\n",
    "---\n"
   ]
  },
  {
   "cell_type": "markdown",
   "id": "32fd8f36",
   "metadata": {
    "papermill": {
     "duration": 0.004067,
     "end_time": "2025-07-14T07:34:44.696215",
     "exception": false,
     "start_time": "2025-07-14T07:34:44.692148",
     "status": "completed"
    },
    "tags": []
   },
   "source": [
    "# Introduction\n",
    "\n",
    "In these exercises we'll apply groupwise analysis to our dataset.\n",
    "\n",
    "Run the code cell below to load the data before running the exercises."
   ]
  },
  {
   "cell_type": "code",
   "execution_count": 1,
   "id": "58e7534b",
   "metadata": {
    "execution": {
     "iopub.execute_input": "2025-07-14T07:34:44.706006Z",
     "iopub.status.busy": "2025-07-14T07:34:44.705633Z",
     "iopub.status.idle": "2025-07-14T07:34:50.616789Z",
     "shell.execute_reply": "2025-07-14T07:34:50.615213Z"
    },
    "papermill": {
     "duration": 5.918385,
     "end_time": "2025-07-14T07:34:50.618794",
     "exception": false,
     "start_time": "2025-07-14T07:34:44.700409",
     "status": "completed"
    },
    "tags": []
   },
   "outputs": [
    {
     "name": "stdout",
     "output_type": "stream",
     "text": [
      "Setup complete.\n"
     ]
    },
    {
     "name": "stderr",
     "output_type": "stream",
     "text": [
      "/usr/local/lib/python3.11/dist-packages/learntools/pandas/grouping_and_sorting.py:29: FutureWarning: The provided callable <built-in function min> is currently using SeriesGroupBy.min. In a future version of pandas, the provided callable will be used directly. To keep current behavior pass the string \"min\" instead.\n",
      "  _expected = reviews.groupby('variety').price.agg([min, max])\n",
      "/usr/local/lib/python3.11/dist-packages/learntools/pandas/grouping_and_sorting.py:29: FutureWarning: The provided callable <built-in function max> is currently using SeriesGroupBy.max. In a future version of pandas, the provided callable will be used directly. To keep current behavior pass the string \"max\" instead.\n",
      "  _expected = reviews.groupby('variety').price.agg([min, max])\n",
      "/usr/local/lib/python3.11/dist-packages/learntools/pandas/grouping_and_sorting.py:35: FutureWarning: The provided callable <built-in function min> is currently using SeriesGroupBy.min. In a future version of pandas, the provided callable will be used directly. To keep current behavior pass the string \"min\" instead.\n",
      "  _expected = reviews.groupby('variety').price.agg([min, max]).sort_values(by=['min', 'max'], ascending=False)\n",
      "/usr/local/lib/python3.11/dist-packages/learntools/pandas/grouping_and_sorting.py:35: FutureWarning: The provided callable <built-in function max> is currently using SeriesGroupBy.max. In a future version of pandas, the provided callable will be used directly. To keep current behavior pass the string \"max\" instead.\n",
      "  _expected = reviews.groupby('variety').price.agg([min, max]).sort_values(by=['min', 'max'], ascending=False)\n"
     ]
    }
   ],
   "source": [
    "import pandas as pd\n",
    "\n",
    "reviews = pd.read_csv(\"../input/wine-reviews/winemag-data-130k-v2.csv\", index_col=0)\n",
    "#pd.set_option(\"display.max_rows\", 5)\n",
    "\n",
    "from learntools.core import binder; binder.bind(globals())\n",
    "from learntools.pandas.grouping_and_sorting import *\n",
    "print(\"Setup complete.\")"
   ]
  },
  {
   "cell_type": "markdown",
   "id": "27384be1",
   "metadata": {
    "papermill": {
     "duration": 0.005375,
     "end_time": "2025-07-14T07:34:50.629443",
     "exception": false,
     "start_time": "2025-07-14T07:34:50.624068",
     "status": "completed"
    },
    "tags": []
   },
   "source": [
    "# Exercises"
   ]
  },
  {
   "cell_type": "markdown",
   "id": "90fb95ab",
   "metadata": {
    "papermill": {
     "duration": 0.004362,
     "end_time": "2025-07-14T07:34:50.639163",
     "exception": false,
     "start_time": "2025-07-14T07:34:50.634801",
     "status": "completed"
    },
    "tags": []
   },
   "source": [
    "## 1.\n",
    "Who are the most common wine reviewers in the dataset? Create a `Series` whose index is the `taster_twitter_handle` category from the dataset, and whose values count how many reviews each person wrote."
   ]
  },
  {
   "cell_type": "code",
   "execution_count": 2,
   "id": "4afbdb69",
   "metadata": {
    "execution": {
     "iopub.execute_input": "2025-07-14T07:34:50.650259Z",
     "iopub.status.busy": "2025-07-14T07:34:50.649818Z",
     "iopub.status.idle": "2025-07-14T07:34:50.682178Z",
     "shell.execute_reply": "2025-07-14T07:34:50.681068Z"
    },
    "papermill": {
     "duration": 0.040293,
     "end_time": "2025-07-14T07:34:50.683984",
     "exception": false,
     "start_time": "2025-07-14T07:34:50.643691",
     "status": "completed"
    },
    "tags": []
   },
   "outputs": [
    {
     "data": {
      "application/javascript": [
       "parent.postMessage({\"jupyterEvent\": \"custom.exercise_interaction\", \"data\": {\"outcomeType\": 1, \"valueTowardsCompletion\": 0.16666666666666666, \"interactionType\": 1, \"questionType\": 1, \"questionId\": \"1_ReviewsWritten\", \"learnToolsVersion\": \"0.3.5\", \"failureMessage\": \"\", \"exceptionClass\": \"\", \"trace\": \"\"}}, \"*\")"
      ],
      "text/plain": [
       "<IPython.core.display.Javascript object>"
      ]
     },
     "metadata": {},
     "output_type": "display_data"
    },
    {
     "data": {
      "text/markdown": [
       "<span style=\"color:#33cc33\">Correct:</span> \n",
       "\n",
       "\n",
       "```python\n",
       "reviews_written = reviews.groupby('taster_twitter_handle').size()\n",
       "```\n",
       "or\n",
       "```python\n",
       "reviews_written = reviews.groupby('taster_twitter_handle').taster_twitter_handle.count()\n",
       "```\n"
      ],
      "text/plain": [
       "Correct: \n",
       "\n",
       "\n",
       "```python\n",
       "reviews_written = reviews.groupby('taster_twitter_handle').size()\n",
       "```\n",
       "or\n",
       "```python\n",
       "reviews_written = reviews.groupby('taster_twitter_handle').taster_twitter_handle.count()\n",
       "```"
      ]
     },
     "metadata": {},
     "output_type": "display_data"
    },
    {
     "data": {
      "text/plain": [
       "taster_twitter_handle\n",
       "@AnneInVino          3685\n",
       "@JoeCz               5147\n",
       "@bkfiona               27\n",
       "@gordone_cellars     4177\n",
       "@kerinokeefe        10776\n",
       "@laurbuzz            1835\n",
       "@mattkettmann        6332\n",
       "@paulgwine           9532\n",
       "@suskostrzewa        1085\n",
       "@vboone              9537\n",
       "@vossroger          25514\n",
       "@wawinereport        4966\n",
       "@wineschach         15134\n",
       "@winewchristina         6\n",
       "@worldwineguys       1005\n",
       "Name: taster_twitter_handle, dtype: int64"
      ]
     },
     "execution_count": 2,
     "metadata": {},
     "output_type": "execute_result"
    }
   ],
   "source": [
    "# Your code here\n",
    "reviews_written = reviews.groupby('taster_twitter_handle').taster_twitter_handle.count()\n",
    "\n",
    "# Check your answer\n",
    "q1.check()\n",
    "reviews_written"
   ]
  },
  {
   "cell_type": "code",
   "execution_count": 3,
   "id": "931815ef",
   "metadata": {
    "execution": {
     "iopub.execute_input": "2025-07-14T07:34:50.695786Z",
     "iopub.status.busy": "2025-07-14T07:34:50.695419Z",
     "iopub.status.idle": "2025-07-14T07:34:50.700035Z",
     "shell.execute_reply": "2025-07-14T07:34:50.698990Z"
    },
    "papermill": {
     "duration": 0.012545,
     "end_time": "2025-07-14T07:34:50.701988",
     "exception": false,
     "start_time": "2025-07-14T07:34:50.689443",
     "status": "completed"
    },
    "tags": []
   },
   "outputs": [],
   "source": [
    "#q1.hint()\n",
    "#q1.solution()"
   ]
  },
  {
   "cell_type": "markdown",
   "id": "cbfe2bf8",
   "metadata": {
    "papermill": {
     "duration": 0.005893,
     "end_time": "2025-07-14T07:34:50.713372",
     "exception": false,
     "start_time": "2025-07-14T07:34:50.707479",
     "status": "completed"
    },
    "tags": []
   },
   "source": [
    "## 2.\n",
    "What is the best wine I can buy for a given amount of money? Create a `Series` whose index is wine prices and whose values is the maximum number of points a wine costing that much was given in a review. Sort the values by price, ascending (so that `4.0` dollars is at the top and `3300.0` dollars is at the bottom)."
   ]
  },
  {
   "cell_type": "code",
   "execution_count": 4,
   "id": "77351c58",
   "metadata": {
    "execution": {
     "iopub.execute_input": "2025-07-14T07:34:50.724679Z",
     "iopub.status.busy": "2025-07-14T07:34:50.724345Z",
     "iopub.status.idle": "2025-07-14T07:34:50.743627Z",
     "shell.execute_reply": "2025-07-14T07:34:50.742524Z"
    },
    "papermill": {
     "duration": 0.027539,
     "end_time": "2025-07-14T07:34:50.745754",
     "exception": false,
     "start_time": "2025-07-14T07:34:50.718215",
     "status": "completed"
    },
    "tags": []
   },
   "outputs": [
    {
     "data": {
      "application/javascript": [
       "parent.postMessage({\"jupyterEvent\": \"custom.exercise_interaction\", \"data\": {\"outcomeType\": 1, \"valueTowardsCompletion\": 0.16666666666666666, \"interactionType\": 1, \"questionType\": 1, \"questionId\": \"2_BestRatingPerPrice\", \"learnToolsVersion\": \"0.3.5\", \"failureMessage\": \"\", \"exceptionClass\": \"\", \"trace\": \"\"}}, \"*\")"
      ],
      "text/plain": [
       "<IPython.core.display.Javascript object>"
      ]
     },
     "metadata": {},
     "output_type": "display_data"
    },
    {
     "data": {
      "text/markdown": [
       "<span style=\"color:#33cc33\">Correct</span>"
      ],
      "text/plain": [
       "Correct"
      ]
     },
     "metadata": {},
     "output_type": "display_data"
    },
    {
     "data": {
      "text/plain": [
       "price\n",
       "4.0       86\n",
       "5.0       87\n",
       "6.0       88\n",
       "7.0       91\n",
       "8.0       91\n",
       "          ..\n",
       "1900.0    98\n",
       "2000.0    97\n",
       "2013.0    91\n",
       "2500.0    96\n",
       "3300.0    88\n",
       "Name: points, Length: 390, dtype: int64"
      ]
     },
     "execution_count": 4,
     "metadata": {},
     "output_type": "execute_result"
    }
   ],
   "source": [
    "best_rating_per_price = reviews.groupby('price')['points'].max().sort_index()\n",
    "\n",
    "# Check your answer\n",
    "q2.check()\n",
    "best_rating_per_price"
   ]
  },
  {
   "cell_type": "code",
   "execution_count": 5,
   "id": "0c6bd20f",
   "metadata": {
    "execution": {
     "iopub.execute_input": "2025-07-14T07:34:50.758609Z",
     "iopub.status.busy": "2025-07-14T07:34:50.758280Z",
     "iopub.status.idle": "2025-07-14T07:34:50.763487Z",
     "shell.execute_reply": "2025-07-14T07:34:50.762141Z"
    },
    "papermill": {
     "duration": 0.014848,
     "end_time": "2025-07-14T07:34:50.766114",
     "exception": false,
     "start_time": "2025-07-14T07:34:50.751266",
     "status": "completed"
    },
    "tags": []
   },
   "outputs": [],
   "source": [
    "#q2.hint()\n",
    "#q2.solution()"
   ]
  },
  {
   "cell_type": "markdown",
   "id": "b2ca646e",
   "metadata": {
    "papermill": {
     "duration": 0.004778,
     "end_time": "2025-07-14T07:34:50.777430",
     "exception": false,
     "start_time": "2025-07-14T07:34:50.772652",
     "status": "completed"
    },
    "tags": []
   },
   "source": [
    "## 3.\n",
    "What are the minimum and maximum prices for each `variety` of wine? Create a `DataFrame` whose index is the `variety` category from the dataset and whose values are the `min` and `max` values thereof."
   ]
  },
  {
   "cell_type": "code",
   "execution_count": 6,
   "id": "a97da83d",
   "metadata": {
    "execution": {
     "iopub.execute_input": "2025-07-14T07:34:50.789091Z",
     "iopub.status.busy": "2025-07-14T07:34:50.788710Z",
     "iopub.status.idle": "2025-07-14T07:34:50.834015Z",
     "shell.execute_reply": "2025-07-14T07:34:50.832955Z"
    },
    "papermill": {
     "duration": 0.053229,
     "end_time": "2025-07-14T07:34:50.835816",
     "exception": false,
     "start_time": "2025-07-14T07:34:50.782587",
     "status": "completed"
    },
    "tags": []
   },
   "outputs": [
    {
     "name": "stderr",
     "output_type": "stream",
     "text": [
      "/tmp/ipykernel_13/1034208027.py:1: FutureWarning: The provided callable <built-in function min> is currently using SeriesGroupBy.min. In a future version of pandas, the provided callable will be used directly. To keep current behavior pass the string \"min\" instead.\n",
      "  price_extremes = reviews.groupby('variety').price.agg([min,max])\n",
      "/tmp/ipykernel_13/1034208027.py:1: FutureWarning: The provided callable <built-in function max> is currently using SeriesGroupBy.max. In a future version of pandas, the provided callable will be used directly. To keep current behavior pass the string \"max\" instead.\n",
      "  price_extremes = reviews.groupby('variety').price.agg([min,max])\n"
     ]
    },
    {
     "data": {
      "application/javascript": [
       "parent.postMessage({\"jupyterEvent\": \"custom.exercise_interaction\", \"data\": {\"outcomeType\": 1, \"valueTowardsCompletion\": 0.16666666666666666, \"interactionType\": 1, \"questionType\": 1, \"questionId\": \"3_PriceExtremes\", \"learnToolsVersion\": \"0.3.5\", \"failureMessage\": \"\", \"exceptionClass\": \"\", \"trace\": \"\"}}, \"*\")"
      ],
      "text/plain": [
       "<IPython.core.display.Javascript object>"
      ]
     },
     "metadata": {},
     "output_type": "display_data"
    },
    {
     "data": {
      "text/markdown": [
       "<span style=\"color:#33cc33\">Correct</span>"
      ],
      "text/plain": [
       "Correct"
      ]
     },
     "metadata": {},
     "output_type": "display_data"
    },
    {
     "data": {
      "text/html": [
       "<div>\n",
       "<style scoped>\n",
       "    .dataframe tbody tr th:only-of-type {\n",
       "        vertical-align: middle;\n",
       "    }\n",
       "\n",
       "    .dataframe tbody tr th {\n",
       "        vertical-align: top;\n",
       "    }\n",
       "\n",
       "    .dataframe thead th {\n",
       "        text-align: right;\n",
       "    }\n",
       "</style>\n",
       "<table border=\"1\" class=\"dataframe\">\n",
       "  <thead>\n",
       "    <tr style=\"text-align: right;\">\n",
       "      <th></th>\n",
       "      <th>min</th>\n",
       "      <th>max</th>\n",
       "    </tr>\n",
       "    <tr>\n",
       "      <th>variety</th>\n",
       "      <th></th>\n",
       "      <th></th>\n",
       "    </tr>\n",
       "  </thead>\n",
       "  <tbody>\n",
       "    <tr>\n",
       "      <th>Abouriou</th>\n",
       "      <td>15.0</td>\n",
       "      <td>75.0</td>\n",
       "    </tr>\n",
       "    <tr>\n",
       "      <th>Agiorgitiko</th>\n",
       "      <td>10.0</td>\n",
       "      <td>66.0</td>\n",
       "    </tr>\n",
       "    <tr>\n",
       "      <th>Aglianico</th>\n",
       "      <td>6.0</td>\n",
       "      <td>180.0</td>\n",
       "    </tr>\n",
       "    <tr>\n",
       "      <th>Aidani</th>\n",
       "      <td>27.0</td>\n",
       "      <td>27.0</td>\n",
       "    </tr>\n",
       "    <tr>\n",
       "      <th>Airen</th>\n",
       "      <td>8.0</td>\n",
       "      <td>10.0</td>\n",
       "    </tr>\n",
       "    <tr>\n",
       "      <th>...</th>\n",
       "      <td>...</td>\n",
       "      <td>...</td>\n",
       "    </tr>\n",
       "    <tr>\n",
       "      <th>Zinfandel</th>\n",
       "      <td>5.0</td>\n",
       "      <td>100.0</td>\n",
       "    </tr>\n",
       "    <tr>\n",
       "      <th>Zlahtina</th>\n",
       "      <td>13.0</td>\n",
       "      <td>16.0</td>\n",
       "    </tr>\n",
       "    <tr>\n",
       "      <th>Zweigelt</th>\n",
       "      <td>9.0</td>\n",
       "      <td>70.0</td>\n",
       "    </tr>\n",
       "    <tr>\n",
       "      <th>Çalkarası</th>\n",
       "      <td>19.0</td>\n",
       "      <td>19.0</td>\n",
       "    </tr>\n",
       "    <tr>\n",
       "      <th>Žilavka</th>\n",
       "      <td>15.0</td>\n",
       "      <td>15.0</td>\n",
       "    </tr>\n",
       "  </tbody>\n",
       "</table>\n",
       "<p>707 rows × 2 columns</p>\n",
       "</div>"
      ],
      "text/plain": [
       "              min    max\n",
       "variety                 \n",
       "Abouriou     15.0   75.0\n",
       "Agiorgitiko  10.0   66.0\n",
       "Aglianico     6.0  180.0\n",
       "Aidani       27.0   27.0\n",
       "Airen         8.0   10.0\n",
       "...           ...    ...\n",
       "Zinfandel     5.0  100.0\n",
       "Zlahtina     13.0   16.0\n",
       "Zweigelt      9.0   70.0\n",
       "Çalkarası    19.0   19.0\n",
       "Žilavka      15.0   15.0\n",
       "\n",
       "[707 rows x 2 columns]"
      ]
     },
     "execution_count": 6,
     "metadata": {},
     "output_type": "execute_result"
    }
   ],
   "source": [
    "price_extremes = reviews.groupby('variety').price.agg([min,max])\n",
    "\n",
    "# Check your answer\n",
    "q3.check()\n",
    "price_extremes"
   ]
  },
  {
   "cell_type": "code",
   "execution_count": 7,
   "id": "1f33eb7b",
   "metadata": {
    "execution": {
     "iopub.execute_input": "2025-07-14T07:34:50.848051Z",
     "iopub.status.busy": "2025-07-14T07:34:50.847700Z",
     "iopub.status.idle": "2025-07-14T07:34:50.852340Z",
     "shell.execute_reply": "2025-07-14T07:34:50.851074Z"
    },
    "papermill": {
     "duration": 0.012859,
     "end_time": "2025-07-14T07:34:50.854275",
     "exception": false,
     "start_time": "2025-07-14T07:34:50.841416",
     "status": "completed"
    },
    "tags": []
   },
   "outputs": [],
   "source": [
    "#q3.hint()\n",
    "#q3.solution()"
   ]
  },
  {
   "cell_type": "markdown",
   "id": "904d8c45",
   "metadata": {
    "papermill": {
     "duration": 0.005194,
     "end_time": "2025-07-14T07:34:50.865279",
     "exception": false,
     "start_time": "2025-07-14T07:34:50.860085",
     "status": "completed"
    },
    "tags": []
   },
   "source": [
    "## 4.\n",
    "What are the most expensive wine varieties? Create a variable `sorted_varieties` containing a copy of the dataframe from the previous question where varieties are sorted in descending order based on minimum price, then on maximum price (to break ties)."
   ]
  },
  {
   "cell_type": "code",
   "execution_count": 8,
   "id": "7af4b3a4",
   "metadata": {
    "execution": {
     "iopub.execute_input": "2025-07-14T07:34:50.877652Z",
     "iopub.status.busy": "2025-07-14T07:34:50.877285Z",
     "iopub.status.idle": "2025-07-14T07:34:50.916115Z",
     "shell.execute_reply": "2025-07-14T07:34:50.915047Z"
    },
    "papermill": {
     "duration": 0.047211,
     "end_time": "2025-07-14T07:34:50.917907",
     "exception": false,
     "start_time": "2025-07-14T07:34:50.870696",
     "status": "completed"
    },
    "tags": []
   },
   "outputs": [
    {
     "name": "stderr",
     "output_type": "stream",
     "text": [
      "/tmp/ipykernel_13/2179026247.py:1: FutureWarning: The provided callable <built-in function min> is currently using SeriesGroupBy.min. In a future version of pandas, the provided callable will be used directly. To keep current behavior pass the string \"min\" instead.\n",
      "  sorted_varieties = reviews.groupby('variety').price.agg([min,max]).sort_values(by=['min', 'max'], ascending=False)\n",
      "/tmp/ipykernel_13/2179026247.py:1: FutureWarning: The provided callable <built-in function max> is currently using SeriesGroupBy.max. In a future version of pandas, the provided callable will be used directly. To keep current behavior pass the string \"max\" instead.\n",
      "  sorted_varieties = reviews.groupby('variety').price.agg([min,max]).sort_values(by=['min', 'max'], ascending=False)\n"
     ]
    },
    {
     "data": {
      "application/javascript": [
       "parent.postMessage({\"jupyterEvent\": \"custom.exercise_interaction\", \"data\": {\"outcomeType\": 1, \"valueTowardsCompletion\": 0.16666666666666666, \"interactionType\": 1, \"questionType\": 1, \"questionId\": \"4_SortedVarieties\", \"learnToolsVersion\": \"0.3.5\", \"failureMessage\": \"\", \"exceptionClass\": \"\", \"trace\": \"\"}}, \"*\")"
      ],
      "text/plain": [
       "<IPython.core.display.Javascript object>"
      ]
     },
     "metadata": {},
     "output_type": "display_data"
    },
    {
     "data": {
      "text/markdown": [
       "<span style=\"color:#33cc33\">Correct</span>"
      ],
      "text/plain": [
       "Correct"
      ]
     },
     "metadata": {},
     "output_type": "display_data"
    },
    {
     "name": "stderr",
     "output_type": "stream",
     "text": [
      "/usr/local/lib/python3.11/dist-packages/pandas/io/formats/format.py:1458: RuntimeWarning: invalid value encountered in greater\n",
      "  has_large_values = (abs_vals > 1e6).any()\n",
      "/usr/local/lib/python3.11/dist-packages/pandas/io/formats/format.py:1459: RuntimeWarning: invalid value encountered in less\n",
      "  has_small_values = ((abs_vals < 10 ** (-self.digits)) & (abs_vals > 0)).any()\n",
      "/usr/local/lib/python3.11/dist-packages/pandas/io/formats/format.py:1459: RuntimeWarning: invalid value encountered in greater\n",
      "  has_small_values = ((abs_vals < 10 ** (-self.digits)) & (abs_vals > 0)).any()\n"
     ]
    },
    {
     "data": {
      "text/html": [
       "<div>\n",
       "<style scoped>\n",
       "    .dataframe tbody tr th:only-of-type {\n",
       "        vertical-align: middle;\n",
       "    }\n",
       "\n",
       "    .dataframe tbody tr th {\n",
       "        vertical-align: top;\n",
       "    }\n",
       "\n",
       "    .dataframe thead th {\n",
       "        text-align: right;\n",
       "    }\n",
       "</style>\n",
       "<table border=\"1\" class=\"dataframe\">\n",
       "  <thead>\n",
       "    <tr style=\"text-align: right;\">\n",
       "      <th></th>\n",
       "      <th>min</th>\n",
       "      <th>max</th>\n",
       "    </tr>\n",
       "    <tr>\n",
       "      <th>variety</th>\n",
       "      <th></th>\n",
       "      <th></th>\n",
       "    </tr>\n",
       "  </thead>\n",
       "  <tbody>\n",
       "    <tr>\n",
       "      <th>Ramisco</th>\n",
       "      <td>495.0</td>\n",
       "      <td>495.0</td>\n",
       "    </tr>\n",
       "    <tr>\n",
       "      <th>Terrantez</th>\n",
       "      <td>236.0</td>\n",
       "      <td>236.0</td>\n",
       "    </tr>\n",
       "    <tr>\n",
       "      <th>Francisa</th>\n",
       "      <td>160.0</td>\n",
       "      <td>160.0</td>\n",
       "    </tr>\n",
       "    <tr>\n",
       "      <th>Rosenmuskateller</th>\n",
       "      <td>150.0</td>\n",
       "      <td>150.0</td>\n",
       "    </tr>\n",
       "    <tr>\n",
       "      <th>Tinta Negra Mole</th>\n",
       "      <td>112.0</td>\n",
       "      <td>112.0</td>\n",
       "    </tr>\n",
       "    <tr>\n",
       "      <th>...</th>\n",
       "      <td>...</td>\n",
       "      <td>...</td>\n",
       "    </tr>\n",
       "    <tr>\n",
       "      <th>Roscetto</th>\n",
       "      <td>NaN</td>\n",
       "      <td>NaN</td>\n",
       "    </tr>\n",
       "    <tr>\n",
       "      <th>Sauvignon Blanc-Sauvignon Gris</th>\n",
       "      <td>NaN</td>\n",
       "      <td>NaN</td>\n",
       "    </tr>\n",
       "    <tr>\n",
       "      <th>Tempranillo-Malbec</th>\n",
       "      <td>NaN</td>\n",
       "      <td>NaN</td>\n",
       "    </tr>\n",
       "    <tr>\n",
       "      <th>Vital</th>\n",
       "      <td>NaN</td>\n",
       "      <td>NaN</td>\n",
       "    </tr>\n",
       "    <tr>\n",
       "      <th>Zelen</th>\n",
       "      <td>NaN</td>\n",
       "      <td>NaN</td>\n",
       "    </tr>\n",
       "  </tbody>\n",
       "</table>\n",
       "<p>707 rows × 2 columns</p>\n",
       "</div>"
      ],
      "text/plain": [
       "                                  min    max\n",
       "variety                                     \n",
       "Ramisco                         495.0  495.0\n",
       "Terrantez                       236.0  236.0\n",
       "Francisa                        160.0  160.0\n",
       "Rosenmuskateller                150.0  150.0\n",
       "Tinta Negra Mole                112.0  112.0\n",
       "...                               ...    ...\n",
       "Roscetto                          NaN    NaN\n",
       "Sauvignon Blanc-Sauvignon Gris    NaN    NaN\n",
       "Tempranillo-Malbec                NaN    NaN\n",
       "Vital                             NaN    NaN\n",
       "Zelen                             NaN    NaN\n",
       "\n",
       "[707 rows x 2 columns]"
      ]
     },
     "execution_count": 8,
     "metadata": {},
     "output_type": "execute_result"
    }
   ],
   "source": [
    "sorted_varieties = reviews.groupby('variety').price.agg([min,max]).sort_values(by=['min', 'max'], ascending=False)\n",
    "\n",
    "# Check your answer\n",
    "q4.check()\n",
    "sorted_varieties"
   ]
  },
  {
   "cell_type": "code",
   "execution_count": 9,
   "id": "dd973b24",
   "metadata": {
    "execution": {
     "iopub.execute_input": "2025-07-14T07:34:50.931277Z",
     "iopub.status.busy": "2025-07-14T07:34:50.930900Z",
     "iopub.status.idle": "2025-07-14T07:34:50.935967Z",
     "shell.execute_reply": "2025-07-14T07:34:50.934953Z"
    },
    "papermill": {
     "duration": 0.013631,
     "end_time": "2025-07-14T07:34:50.937654",
     "exception": false,
     "start_time": "2025-07-14T07:34:50.924023",
     "status": "completed"
    },
    "tags": []
   },
   "outputs": [],
   "source": [
    "#q4.hint()\n",
    "#q4.solution()"
   ]
  },
  {
   "cell_type": "markdown",
   "id": "e55abfd5",
   "metadata": {
    "papermill": {
     "duration": 0.006173,
     "end_time": "2025-07-14T07:34:50.950349",
     "exception": false,
     "start_time": "2025-07-14T07:34:50.944176",
     "status": "completed"
    },
    "tags": []
   },
   "source": [
    "## 5.\n",
    "Create a `Series` whose index is reviewers and whose values is the average review score given out by that reviewer. Hint: you will need the `taster_name` and `points` columns."
   ]
  },
  {
   "cell_type": "code",
   "execution_count": 10,
   "id": "ed9048a1",
   "metadata": {
    "execution": {
     "iopub.execute_input": "2025-07-14T07:34:50.965248Z",
     "iopub.status.busy": "2025-07-14T07:34:50.963988Z",
     "iopub.status.idle": "2025-07-14T07:34:50.990304Z",
     "shell.execute_reply": "2025-07-14T07:34:50.989356Z"
    },
    "papermill": {
     "duration": 0.035448,
     "end_time": "2025-07-14T07:34:50.992001",
     "exception": false,
     "start_time": "2025-07-14T07:34:50.956553",
     "status": "completed"
    },
    "tags": []
   },
   "outputs": [
    {
     "data": {
      "application/javascript": [
       "parent.postMessage({\"jupyterEvent\": \"custom.exercise_interaction\", \"data\": {\"outcomeType\": 1, \"valueTowardsCompletion\": 0.16666666666666666, \"interactionType\": 1, \"questionType\": 1, \"questionId\": \"5_ReviewerMeanRatings\", \"learnToolsVersion\": \"0.3.5\", \"failureMessage\": \"\", \"exceptionClass\": \"\", \"trace\": \"\"}}, \"*\")"
      ],
      "text/plain": [
       "<IPython.core.display.Javascript object>"
      ]
     },
     "metadata": {},
     "output_type": "display_data"
    },
    {
     "data": {
      "text/markdown": [
       "<span style=\"color:#33cc33\">Correct</span>"
      ],
      "text/plain": [
       "Correct"
      ]
     },
     "metadata": {},
     "output_type": "display_data"
    },
    {
     "data": {
      "text/plain": [
       "taster_name\n",
       "Alexander Peartree    85.855422\n",
       "Anna Lee C. Iijima    88.415629\n",
       "Anne Krebiehl MW      90.562551\n",
       "Carrie Dykes          86.395683\n",
       "Christina Pickard     87.833333\n",
       "Fiona Adams           86.888889\n",
       "Jeff Jenssen          88.319756\n",
       "Jim Gordon            88.626287\n",
       "Joe Czerwinski        88.536235\n",
       "Kerin O’Keefe         88.867947\n",
       "Lauren Buzzeo         87.739510\n",
       "Matt Kettmann         90.008686\n",
       "Michael Schachner     86.907493\n",
       "Mike DeSimone         89.101167\n",
       "Paul Gregutt          89.082564\n",
       "Roger Voss            88.708003\n",
       "Sean P. Sullivan      88.755739\n",
       "Susan Kostrzewa       86.609217\n",
       "Virginie Boone        89.213379\n",
       "Name: points, dtype: float64"
      ]
     },
     "execution_count": 10,
     "metadata": {},
     "output_type": "execute_result"
    }
   ],
   "source": [
    "reviewer_mean_ratings = reviews.groupby('taster_name').points.mean()\n",
    "\n",
    "# Check your answer\n",
    "q5.check()\n",
    "reviewer_mean_ratings"
   ]
  },
  {
   "cell_type": "code",
   "execution_count": 11,
   "id": "3dc57ca6",
   "metadata": {
    "execution": {
     "iopub.execute_input": "2025-07-14T07:34:51.008062Z",
     "iopub.status.busy": "2025-07-14T07:34:51.007709Z",
     "iopub.status.idle": "2025-07-14T07:34:51.012353Z",
     "shell.execute_reply": "2025-07-14T07:34:51.011103Z"
    },
    "papermill": {
     "duration": 0.014726,
     "end_time": "2025-07-14T07:34:51.014162",
     "exception": false,
     "start_time": "2025-07-14T07:34:50.999436",
     "status": "completed"
    },
    "tags": []
   },
   "outputs": [],
   "source": [
    "#q5.hint()\n",
    "#q5.solution()"
   ]
  },
  {
   "cell_type": "markdown",
   "id": "2a3c6e32",
   "metadata": {
    "papermill": {
     "duration": 0.006186,
     "end_time": "2025-07-14T07:34:51.026689",
     "exception": false,
     "start_time": "2025-07-14T07:34:51.020503",
     "status": "completed"
    },
    "tags": []
   },
   "source": [
    "Are there significant differences in the average scores assigned by the various reviewers? Run the cell below to use the `describe()` method to see a summary of the range of values."
   ]
  },
  {
   "cell_type": "code",
   "execution_count": 12,
   "id": "b25d4bfc",
   "metadata": {
    "execution": {
     "iopub.execute_input": "2025-07-14T07:34:51.040346Z",
     "iopub.status.busy": "2025-07-14T07:34:51.040061Z",
     "iopub.status.idle": "2025-07-14T07:34:51.056309Z",
     "shell.execute_reply": "2025-07-14T07:34:51.055375Z"
    },
    "papermill": {
     "duration": 0.025387,
     "end_time": "2025-07-14T07:34:51.058164",
     "exception": false,
     "start_time": "2025-07-14T07:34:51.032777",
     "status": "completed"
    },
    "tags": []
   },
   "outputs": [
    {
     "data": {
      "text/plain": [
       "count    19.000000\n",
       "mean     88.233026\n",
       "std       1.243610\n",
       "min      85.855422\n",
       "25%      87.323501\n",
       "50%      88.536235\n",
       "75%      88.975256\n",
       "max      90.562551\n",
       "Name: points, dtype: float64"
      ]
     },
     "execution_count": 12,
     "metadata": {},
     "output_type": "execute_result"
    }
   ],
   "source": [
    "reviewer_mean_ratings.describe()"
   ]
  },
  {
   "cell_type": "markdown",
   "id": "503c1388",
   "metadata": {
    "papermill": {
     "duration": 0.005838,
     "end_time": "2025-07-14T07:34:51.070419",
     "exception": false,
     "start_time": "2025-07-14T07:34:51.064581",
     "status": "completed"
    },
    "tags": []
   },
   "source": [
    "## 6.\n",
    "What combination of countries and varieties are most common? Create a `Series` whose index is a `MultiIndex`of `{country, variety}` pairs. For example, a pinot noir produced in the US should map to `{\"US\", \"Pinot Noir\"}`. Sort the values in the `Series` in descending order based on wine count."
   ]
  },
  {
   "cell_type": "code",
   "execution_count": 13,
   "id": "32f18d13",
   "metadata": {
    "execution": {
     "iopub.execute_input": "2025-07-14T07:34:51.083993Z",
     "iopub.status.busy": "2025-07-14T07:34:51.083602Z",
     "iopub.status.idle": "2025-07-14T07:34:51.125674Z",
     "shell.execute_reply": "2025-07-14T07:34:51.124458Z"
    },
    "papermill": {
     "duration": 0.051095,
     "end_time": "2025-07-14T07:34:51.127553",
     "exception": false,
     "start_time": "2025-07-14T07:34:51.076458",
     "status": "completed"
    },
    "tags": []
   },
   "outputs": [
    {
     "data": {
      "application/javascript": [
       "parent.postMessage({\"jupyterEvent\": \"custom.exercise_interaction\", \"data\": {\"outcomeType\": 1, \"valueTowardsCompletion\": 0.16666666666666666, \"interactionType\": 1, \"questionType\": 1, \"questionId\": \"6_GroupbyCountryVariety\", \"learnToolsVersion\": \"0.3.5\", \"failureMessage\": \"\", \"exceptionClass\": \"\", \"trace\": \"\"}}, \"*\")"
      ],
      "text/plain": [
       "<IPython.core.display.Javascript object>"
      ]
     },
     "metadata": {},
     "output_type": "display_data"
    },
    {
     "data": {
      "text/markdown": [
       "<span style=\"color:#33cc33\">Correct</span>"
      ],
      "text/plain": [
       "Correct"
      ]
     },
     "metadata": {},
     "output_type": "display_data"
    },
    {
     "data": {
      "text/plain": [
       "country  variety                 \n",
       "US       Pinot Noir                  9885\n",
       "         Cabernet Sauvignon          7315\n",
       "         Chardonnay                  6801\n",
       "France   Bordeaux-style Red Blend    4725\n",
       "Italy    Red Blend                   3624\n",
       "                                     ... \n",
       "Mexico   Cinsault                       1\n",
       "         Grenache                       1\n",
       "         Merlot                         1\n",
       "         Rosado                         1\n",
       "Uruguay  White Blend                    1\n",
       "Length: 1612, dtype: int64"
      ]
     },
     "execution_count": 13,
     "metadata": {},
     "output_type": "execute_result"
    }
   ],
   "source": [
    "country_variety_counts = reviews.groupby(['country','variety']).size().sort_values(ascending=False)\n",
    "\n",
    "# Check your answer\n",
    "q6.check()\n",
    "country_variety_counts"
   ]
  },
  {
   "cell_type": "code",
   "execution_count": 14,
   "id": "f767b78c",
   "metadata": {
    "execution": {
     "iopub.execute_input": "2025-07-14T07:34:51.143971Z",
     "iopub.status.busy": "2025-07-14T07:34:51.143030Z",
     "iopub.status.idle": "2025-07-14T07:34:51.147352Z",
     "shell.execute_reply": "2025-07-14T07:34:51.146366Z"
    },
    "papermill": {
     "duration": 0.013743,
     "end_time": "2025-07-14T07:34:51.148821",
     "exception": false,
     "start_time": "2025-07-14T07:34:51.135078",
     "status": "completed"
    },
    "tags": []
   },
   "outputs": [],
   "source": [
    "#q6.hint()\n",
    "#q6.solution()"
   ]
  },
  {
   "cell_type": "markdown",
   "id": "1f2861f3",
   "metadata": {
    "papermill": {
     "duration": 0.006293,
     "end_time": "2025-07-14T07:34:51.162283",
     "exception": false,
     "start_time": "2025-07-14T07:34:51.155990",
     "status": "completed"
    },
    "tags": []
   },
   "source": [
    "# Keep going\n",
    "\n",
    "Move on to the [**data types and missing data**](https://www.kaggle.com/residentmario/data-types-and-missing-values)."
   ]
  },
  {
   "cell_type": "markdown",
   "id": "99dbb069",
   "metadata": {
    "papermill": {
     "duration": 0.006164,
     "end_time": "2025-07-14T07:34:51.174825",
     "exception": false,
     "start_time": "2025-07-14T07:34:51.168661",
     "status": "completed"
    },
    "tags": []
   },
   "source": [
    "---\n",
    "\n",
    "\n",
    "\n",
    "\n",
    "*Have questions or comments? Visit the [course discussion forum](https://www.kaggle.com/learn/pandas/discussion) to chat with other learners.*"
   ]
  }
 ],
 "metadata": {
  "kaggle": {
   "accelerator": "none",
   "dataSources": [
    {
     "datasetId": 655,
     "sourceId": 1252,
     "sourceType": "datasetVersion"
    },
    {
     "datasetId": 2321,
     "sourceId": 3919,
     "sourceType": "datasetVersion"
    },
    {
     "datasetId": 2894,
     "sourceId": 4877,
     "sourceType": "datasetVersion"
    },
    {
     "datasetId": 3491,
     "sourceId": 5624,
     "sourceType": "datasetVersion"
    },
    {
     "datasetId": 1442,
     "sourceId": 8172,
     "sourceType": "datasetVersion"
    },
    {
     "datasetId": 9366,
     "sourceId": 13206,
     "sourceType": "datasetVersion"
    },
    {
     "datasetId": 179555,
     "sourceId": 403916,
     "sourceType": "datasetVersion"
    },
    {
     "datasetId": 4549,
     "sourceId": 466349,
     "sourceType": "datasetVersion"
    },
    {
     "datasetId": 2478,
     "sourceId": 1151655,
     "sourceType": "datasetVersion"
    },
    {
     "datasetId": 10128,
     "sourceId": 5438389,
     "sourceType": "datasetVersion"
    }
   ],
   "isGpuEnabled": false,
   "isInternetEnabled": false,
   "language": "python",
   "sourceType": "notebook"
  },
  "kernelspec": {
   "display_name": "Python 3",
   "language": "python",
   "name": "python3"
  },
  "language_info": {
   "codemirror_mode": {
    "name": "ipython",
    "version": 3
   },
   "file_extension": ".py",
   "mimetype": "text/x-python",
   "name": "python",
   "nbconvert_exporter": "python",
   "pygments_lexer": "ipython3",
   "version": "3.11.13"
  },
  "papermill": {
   "default_parameters": {},
   "duration": 12.811632,
   "end_time": "2025-07-14T07:34:52.003940",
   "environment_variables": {},
   "exception": null,
   "input_path": "__notebook__.ipynb",
   "output_path": "__notebook__.ipynb",
   "parameters": {},
   "start_time": "2025-07-14T07:34:39.192308",
   "version": "2.6.0"
  }
 },
 "nbformat": 4,
 "nbformat_minor": 5
}
