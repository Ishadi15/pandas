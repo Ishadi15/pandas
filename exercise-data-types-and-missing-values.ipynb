{
 "cells": [
  {
   "cell_type": "markdown",
   "id": "115b1dd7",
   "metadata": {
    "papermill": {
     "duration": 0.004512,
     "end_time": "2025-07-14T07:46:50.484001",
     "exception": false,
     "start_time": "2025-07-14T07:46:50.479489",
     "status": "completed"
    },
    "tags": []
   },
   "source": [
    "**This notebook is an exercise in the [Pandas](https://www.kaggle.com/learn/pandas) course.  You can reference the tutorial at [this link](https://www.kaggle.com/residentmario/data-types-and-missing-values).**\n",
    "\n",
    "---\n"
   ]
  },
  {
   "cell_type": "markdown",
   "id": "a295a65d",
   "metadata": {
    "papermill": {
     "duration": 0.00335,
     "end_time": "2025-07-14T07:46:50.491971",
     "exception": false,
     "start_time": "2025-07-14T07:46:50.488621",
     "status": "completed"
    },
    "tags": []
   },
   "source": [
    "# Introduction\n",
    "\n",
    "Run the following cell to load your data and some utility functions."
   ]
  },
  {
   "cell_type": "code",
   "execution_count": 1,
   "id": "ab1a17e4",
   "metadata": {
    "execution": {
     "iopub.execute_input": "2025-07-14T07:46:50.500075Z",
     "iopub.status.busy": "2025-07-14T07:46:50.499759Z",
     "iopub.status.idle": "2025-07-14T07:46:56.050053Z",
     "shell.execute_reply": "2025-07-14T07:46:56.048375Z"
    },
    "papermill": {
     "duration": 5.557302,
     "end_time": "2025-07-14T07:46:56.052672",
     "exception": false,
     "start_time": "2025-07-14T07:46:50.495370",
     "status": "completed"
    },
    "tags": []
   },
   "outputs": [
    {
     "name": "stdout",
     "output_type": "stream",
     "text": [
      "Setup complete.\n"
     ]
    }
   ],
   "source": [
    "import pandas as pd\n",
    "\n",
    "reviews = pd.read_csv(\"../input/wine-reviews/winemag-data-130k-v2.csv\", index_col=0)\n",
    "\n",
    "from learntools.core import binder; binder.bind(globals())\n",
    "from learntools.pandas.data_types_and_missing_data import *\n",
    "print(\"Setup complete.\")"
   ]
  },
  {
   "cell_type": "markdown",
   "id": "7181ad00",
   "metadata": {
    "papermill": {
     "duration": 0.003202,
     "end_time": "2025-07-14T07:46:56.059687",
     "exception": false,
     "start_time": "2025-07-14T07:46:56.056485",
     "status": "completed"
    },
    "tags": []
   },
   "source": [
    "# Exercises"
   ]
  },
  {
   "cell_type": "markdown",
   "id": "eb2a558b",
   "metadata": {
    "papermill": {
     "duration": 0.003247,
     "end_time": "2025-07-14T07:46:56.066558",
     "exception": false,
     "start_time": "2025-07-14T07:46:56.063311",
     "status": "completed"
    },
    "tags": []
   },
   "source": [
    "## 1. \n",
    "What is the data type of the `points` column in the dataset?"
   ]
  },
  {
   "cell_type": "code",
   "execution_count": 2,
   "id": "f440333a",
   "metadata": {
    "execution": {
     "iopub.execute_input": "2025-07-14T07:46:56.075201Z",
     "iopub.status.busy": "2025-07-14T07:46:56.074596Z",
     "iopub.status.idle": "2025-07-14T07:46:56.089865Z",
     "shell.execute_reply": "2025-07-14T07:46:56.088594Z"
    },
    "papermill": {
     "duration": 0.022468,
     "end_time": "2025-07-14T07:46:56.092483",
     "exception": false,
     "start_time": "2025-07-14T07:46:56.070015",
     "status": "completed"
    },
    "tags": []
   },
   "outputs": [
    {
     "data": {
      "application/javascript": [
       "parent.postMessage({\"jupyterEvent\": \"custom.exercise_interaction\", \"data\": {\"outcomeType\": 1, \"valueTowardsCompletion\": 0.25, \"interactionType\": 1, \"questionType\": 1, \"questionId\": \"1_PointsDtype\", \"learnToolsVersion\": \"0.3.5\", \"failureMessage\": \"\", \"exceptionClass\": \"\", \"trace\": \"\"}}, \"*\")"
      ],
      "text/plain": [
       "<IPython.core.display.Javascript object>"
      ]
     },
     "metadata": {},
     "output_type": "display_data"
    },
    {
     "data": {
      "text/markdown": [
       "<span style=\"color:#33cc33\">Correct</span>"
      ],
      "text/plain": [
       "Correct"
      ]
     },
     "metadata": {},
     "output_type": "display_data"
    },
    {
     "data": {
      "text/plain": [
       "dtype('int64')"
      ]
     },
     "execution_count": 2,
     "metadata": {},
     "output_type": "execute_result"
    }
   ],
   "source": [
    "# Your code here\n",
    "dtype = reviews.points.dtype\n",
    "\n",
    "# Check your answer\n",
    "q1.check()\n",
    "dtype"
   ]
  },
  {
   "cell_type": "code",
   "execution_count": 3,
   "id": "5c7ba163",
   "metadata": {
    "execution": {
     "iopub.execute_input": "2025-07-14T07:46:56.103545Z",
     "iopub.status.busy": "2025-07-14T07:46:56.103183Z",
     "iopub.status.idle": "2025-07-14T07:46:56.109154Z",
     "shell.execute_reply": "2025-07-14T07:46:56.107703Z"
    },
    "papermill": {
     "duration": 0.015091,
     "end_time": "2025-07-14T07:46:56.112481",
     "exception": false,
     "start_time": "2025-07-14T07:46:56.097390",
     "status": "completed"
    },
    "tags": []
   },
   "outputs": [],
   "source": [
    "#q1.hint()\n",
    "#q1.solution()"
   ]
  },
  {
   "cell_type": "markdown",
   "id": "a837613e",
   "metadata": {
    "papermill": {
     "duration": 0.003617,
     "end_time": "2025-07-14T07:46:56.120291",
     "exception": false,
     "start_time": "2025-07-14T07:46:56.116674",
     "status": "completed"
    },
    "tags": []
   },
   "source": [
    "## 2. \n",
    "Create a Series from entries in the `points` column, but convert the entries to strings. Hint: strings are `str` in native Python."
   ]
  },
  {
   "cell_type": "code",
   "execution_count": 4,
   "id": "8ea6d440",
   "metadata": {
    "execution": {
     "iopub.execute_input": "2025-07-14T07:46:56.132027Z",
     "iopub.status.busy": "2025-07-14T07:46:56.130104Z",
     "iopub.status.idle": "2025-07-14T07:46:56.184743Z",
     "shell.execute_reply": "2025-07-14T07:46:56.183444Z"
    },
    "papermill": {
     "duration": 0.061297,
     "end_time": "2025-07-14T07:46:56.186396",
     "exception": false,
     "start_time": "2025-07-14T07:46:56.125099",
     "status": "completed"
    },
    "tags": []
   },
   "outputs": [
    {
     "data": {
      "application/javascript": [
       "parent.postMessage({\"jupyterEvent\": \"custom.exercise_interaction\", \"data\": {\"outcomeType\": 1, \"valueTowardsCompletion\": 0.25, \"interactionType\": 1, \"questionType\": 1, \"questionId\": \"2_StrPoints\", \"learnToolsVersion\": \"0.3.5\", \"failureMessage\": \"\", \"exceptionClass\": \"\", \"trace\": \"\"}}, \"*\")"
      ],
      "text/plain": [
       "<IPython.core.display.Javascript object>"
      ]
     },
     "metadata": {},
     "output_type": "display_data"
    },
    {
     "data": {
      "text/markdown": [
       "<span style=\"color:#33cc33\">Correct</span>"
      ],
      "text/plain": [
       "Correct"
      ]
     },
     "metadata": {},
     "output_type": "display_data"
    },
    {
     "data": {
      "text/plain": [
       "0         87\n",
       "1         87\n",
       "2         87\n",
       "3         87\n",
       "4         87\n",
       "          ..\n",
       "129966    90\n",
       "129967    90\n",
       "129968    90\n",
       "129969    90\n",
       "129970    90\n",
       "Name: points, Length: 129971, dtype: object"
      ]
     },
     "execution_count": 4,
     "metadata": {},
     "output_type": "execute_result"
    }
   ],
   "source": [
    "point_strings = reviews.points.astype('str')\n",
    "\n",
    "# Check your answer\n",
    "q2.check()\n",
    "point_strings"
   ]
  },
  {
   "cell_type": "code",
   "execution_count": 5,
   "id": "645e8f27",
   "metadata": {
    "execution": {
     "iopub.execute_input": "2025-07-14T07:46:56.197017Z",
     "iopub.status.busy": "2025-07-14T07:46:56.196686Z",
     "iopub.status.idle": "2025-07-14T07:46:56.201631Z",
     "shell.execute_reply": "2025-07-14T07:46:56.200660Z"
    },
    "papermill": {
     "duration": 0.01278,
     "end_time": "2025-07-14T07:46:56.203335",
     "exception": false,
     "start_time": "2025-07-14T07:46:56.190555",
     "status": "completed"
    },
    "tags": []
   },
   "outputs": [],
   "source": [
    "#q2.hint()\n",
    "#q2.solution()"
   ]
  },
  {
   "cell_type": "markdown",
   "id": "dd77c2a0",
   "metadata": {
    "papermill": {
     "duration": 0.003808,
     "end_time": "2025-07-14T07:46:56.211400",
     "exception": false,
     "start_time": "2025-07-14T07:46:56.207592",
     "status": "completed"
    },
    "tags": []
   },
   "source": [
    "## 3.\n",
    "Sometimes the price column is null. How many reviews in the dataset are missing a price?"
   ]
  },
  {
   "cell_type": "code",
   "execution_count": 6,
   "id": "5aee443b",
   "metadata": {
    "execution": {
     "iopub.execute_input": "2025-07-14T07:46:56.221364Z",
     "iopub.status.busy": "2025-07-14T07:46:56.221050Z",
     "iopub.status.idle": "2025-07-14T07:46:56.231791Z",
     "shell.execute_reply": "2025-07-14T07:46:56.230687Z"
    },
    "papermill": {
     "duration": 0.017797,
     "end_time": "2025-07-14T07:46:56.233556",
     "exception": false,
     "start_time": "2025-07-14T07:46:56.215759",
     "status": "completed"
    },
    "tags": []
   },
   "outputs": [
    {
     "data": {
      "application/javascript": [
       "parent.postMessage({\"jupyterEvent\": \"custom.exercise_interaction\", \"data\": {\"outcomeType\": 1, \"valueTowardsCompletion\": 0.25, \"interactionType\": 1, \"questionType\": 1, \"questionId\": \"3_CountMissingPrices\", \"learnToolsVersion\": \"0.3.5\", \"failureMessage\": \"\", \"exceptionClass\": \"\", \"trace\": \"\"}}, \"*\")"
      ],
      "text/plain": [
       "<IPython.core.display.Javascript object>"
      ]
     },
     "metadata": {},
     "output_type": "display_data"
    },
    {
     "data": {
      "text/markdown": [
       "<span style=\"color:#33cc33\">Correct</span>"
      ],
      "text/plain": [
       "Correct"
      ]
     },
     "metadata": {},
     "output_type": "display_data"
    },
    {
     "data": {
      "text/plain": [
       "8996"
      ]
     },
     "execution_count": 6,
     "metadata": {},
     "output_type": "execute_result"
    }
   ],
   "source": [
    "n_missing_prices = reviews.price.isnull().sum()\n",
    "\n",
    "# Check your answer\n",
    "q3.check()\n",
    "n_missing_prices"
   ]
  },
  {
   "cell_type": "code",
   "execution_count": 7,
   "id": "2c91f17f",
   "metadata": {
    "execution": {
     "iopub.execute_input": "2025-07-14T07:46:56.243768Z",
     "iopub.status.busy": "2025-07-14T07:46:56.243373Z",
     "iopub.status.idle": "2025-07-14T07:46:56.248118Z",
     "shell.execute_reply": "2025-07-14T07:46:56.247010Z"
    },
    "papermill": {
     "duration": 0.011792,
     "end_time": "2025-07-14T07:46:56.249897",
     "exception": false,
     "start_time": "2025-07-14T07:46:56.238105",
     "status": "completed"
    },
    "tags": []
   },
   "outputs": [],
   "source": [
    "#q3.hint()\n",
    "#q3.solution()"
   ]
  },
  {
   "cell_type": "markdown",
   "id": "272fe906",
   "metadata": {
    "papermill": {
     "duration": 0.004167,
     "end_time": "2025-07-14T07:46:56.258979",
     "exception": false,
     "start_time": "2025-07-14T07:46:56.254812",
     "status": "completed"
    },
    "tags": []
   },
   "source": [
    "## 4.\n",
    "What are the most common wine-producing regions? Create a Series counting the number of times each value occurs in the `region_1` field. This field is often missing data, so replace missing values with `Unknown`. Sort in descending order.  Your output should look something like this:\n",
    "\n",
    "```\n",
    "Unknown                    21247\n",
    "Napa Valley                 4480\n",
    "                           ...  \n",
    "Bardolino Superiore            1\n",
    "Primitivo del Tarantino        1\n",
    "Name: region_1, Length: 1230, dtype: int64\n",
    "```"
   ]
  },
  {
   "cell_type": "code",
   "execution_count": 8,
   "id": "f7f6da4f",
   "metadata": {
    "execution": {
     "iopub.execute_input": "2025-07-14T07:46:56.268893Z",
     "iopub.status.busy": "2025-07-14T07:46:56.268588Z",
     "iopub.status.idle": "2025-07-14T07:46:56.322626Z",
     "shell.execute_reply": "2025-07-14T07:46:56.321526Z"
    },
    "papermill": {
     "duration": 0.061207,
     "end_time": "2025-07-14T07:46:56.324465",
     "exception": false,
     "start_time": "2025-07-14T07:46:56.263258",
     "status": "completed"
    },
    "tags": []
   },
   "outputs": [
    {
     "data": {
      "application/javascript": [
       "parent.postMessage({\"jupyterEvent\": \"custom.exercise_interaction\", \"data\": {\"outcomeType\": 1, \"valueTowardsCompletion\": 0.25, \"interactionType\": 1, \"questionType\": 2, \"questionId\": \"4_ReviewsPerRegion\", \"learnToolsVersion\": \"0.3.5\", \"failureMessage\": \"\", \"exceptionClass\": \"\", \"trace\": \"\"}}, \"*\")"
      ],
      "text/plain": [
       "<IPython.core.display.Javascript object>"
      ]
     },
     "metadata": {},
     "output_type": "display_data"
    },
    {
     "data": {
      "text/markdown": [
       "<span style=\"color:#33cc33\">Correct</span>"
      ],
      "text/plain": [
       "Correct"
      ]
     },
     "metadata": {},
     "output_type": "display_data"
    },
    {
     "data": {
      "text/plain": [
       "region_1\n",
       "Unknown                 21247\n",
       "Napa Valley              4480\n",
       "Columbia Valley (WA)     4124\n",
       "Russian River Valley     3091\n",
       "California               2629\n",
       "                        ...  \n",
       "Offida Rosso                1\n",
       "Corton Perrières            1\n",
       "Isle St. George             1\n",
       "Geelong                     1\n",
       "Paestum                     1\n",
       "Name: count, Length: 1230, dtype: int64"
      ]
     },
     "execution_count": 8,
     "metadata": {},
     "output_type": "execute_result"
    }
   ],
   "source": [
    "reviews_per_region = reviews.region_1.fillna('Unknown').value_counts().sort_values(ascending=False)\n",
    "\n",
    "# Check your answer\n",
    "q4.check()\n",
    "reviews_per_region"
   ]
  },
  {
   "cell_type": "code",
   "execution_count": 9,
   "id": "a1b000bf",
   "metadata": {
    "execution": {
     "iopub.execute_input": "2025-07-14T07:46:56.335402Z",
     "iopub.status.busy": "2025-07-14T07:46:56.335104Z",
     "iopub.status.idle": "2025-07-14T07:46:56.339546Z",
     "shell.execute_reply": "2025-07-14T07:46:56.338652Z"
    },
    "papermill": {
     "duration": 0.01166,
     "end_time": "2025-07-14T07:46:56.341056",
     "exception": false,
     "start_time": "2025-07-14T07:46:56.329396",
     "status": "completed"
    },
    "tags": []
   },
   "outputs": [],
   "source": [
    "#q4.hint()\n",
    "#q4.solution()"
   ]
  },
  {
   "cell_type": "markdown",
   "id": "9207c528",
   "metadata": {
    "papermill": {
     "duration": 0.004441,
     "end_time": "2025-07-14T07:46:56.350482",
     "exception": false,
     "start_time": "2025-07-14T07:46:56.346041",
     "status": "completed"
    },
    "tags": []
   },
   "source": [
    "# Keep going\n",
    "\n",
    "Move on to **[renaming and combining](https://www.kaggle.com/residentmario/renaming-and-combining)**."
   ]
  },
  {
   "cell_type": "markdown",
   "id": "a8ba829e",
   "metadata": {
    "papermill": {
     "duration": 0.004323,
     "end_time": "2025-07-14T07:46:56.359359",
     "exception": false,
     "start_time": "2025-07-14T07:46:56.355036",
     "status": "completed"
    },
    "tags": []
   },
   "source": [
    "---\n",
    "\n",
    "\n",
    "\n",
    "\n",
    "*Have questions or comments? Visit the [course discussion forum](https://www.kaggle.com/learn/pandas/discussion) to chat with other learners.*"
   ]
  }
 ],
 "metadata": {
  "kaggle": {
   "accelerator": "none",
   "dataSources": [
    {
     "datasetId": 655,
     "sourceId": 1252,
     "sourceType": "datasetVersion"
    },
    {
     "datasetId": 2321,
     "sourceId": 3919,
     "sourceType": "datasetVersion"
    },
    {
     "datasetId": 2894,
     "sourceId": 4877,
     "sourceType": "datasetVersion"
    },
    {
     "datasetId": 3491,
     "sourceId": 5624,
     "sourceType": "datasetVersion"
    },
    {
     "datasetId": 1442,
     "sourceId": 8172,
     "sourceType": "datasetVersion"
    },
    {
     "datasetId": 9366,
     "sourceId": 13206,
     "sourceType": "datasetVersion"
    },
    {
     "datasetId": 179555,
     "sourceId": 403916,
     "sourceType": "datasetVersion"
    },
    {
     "datasetId": 4549,
     "sourceId": 466349,
     "sourceType": "datasetVersion"
    },
    {
     "datasetId": 2478,
     "sourceId": 1151655,
     "sourceType": "datasetVersion"
    },
    {
     "datasetId": 10128,
     "sourceId": 5438389,
     "sourceType": "datasetVersion"
    }
   ],
   "isGpuEnabled": false,
   "isInternetEnabled": false,
   "language": "python",
   "sourceType": "notebook"
  },
  "kernelspec": {
   "display_name": "Python 3",
   "language": "python",
   "name": "python3"
  },
  "language_info": {
   "codemirror_mode": {
    "name": "ipython",
    "version": 3
   },
   "file_extension": ".py",
   "mimetype": "text/x-python",
   "name": "python",
   "nbconvert_exporter": "python",
   "pygments_lexer": "ipython3",
   "version": "3.11.13"
  },
  "papermill": {
   "default_parameters": {},
   "duration": 12.010968,
   "end_time": "2025-07-14T07:46:57.088171",
   "environment_variables": {},
   "exception": null,
   "input_path": "__notebook__.ipynb",
   "output_path": "__notebook__.ipynb",
   "parameters": {},
   "start_time": "2025-07-14T07:46:45.077203",
   "version": "2.6.0"
  }
 },
 "nbformat": 4,
 "nbformat_minor": 5
}
